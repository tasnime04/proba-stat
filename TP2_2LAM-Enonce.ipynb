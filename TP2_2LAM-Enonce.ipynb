{
 "cells": [
  {
   "cell_type": "markdown",
   "metadata": {},
   "source": [
    "# Simulation du jeux de LIDO simplifié"
   ]
  },
  {
   "cell_type": "markdown",
   "metadata": {},
   "source": [
    "## Principe\n",
    "On considére un jeux de Lido simple:\n",
    "on dispose d'un un seul pion.\n",
    "\n",
    "- Etape 0 :\n",
    "Le pion doit sort de sa prison lorsqu'on obtient un 6.\n",
    "\n",
    "- Etape 1 :\n",
    "Le pion doit atteindre exactement une position cible situé à N pas de distance de sa prison \n",
    "\n",
    "Soit $X_n$ la variable aléatoire qui represente le nombre de coup nécéssaire pour atteindre la positions cible.\n",
    "\n",
    "**Objectif 1** : Simuler le jeux \n",
    "\n",
    "**Objectif 2** : Calculer une estimation de l'éspérance mathématique de $X_n$ en utilisant `python`\n",
    "\n",
    "**Objéctif 3** : Observer la variation de $\\mathbb{E}(X_n)$ en fonction de $n$\n",
    "\n",
    "<img src=\"LIDO.png\">\n"
   ]
  },
  {
   "cell_type": "code",
   "execution_count": 36,
   "metadata": {},
   "outputs": [],
   "source": [
    "import numpy as np"
   ]
  },
  {
   "cell_type": "markdown",
   "metadata": {},
   "source": [
    "### Simulation du lancé de dé"
   ]
  },
  {
   "cell_type": "code",
   "execution_count": 37,
   "metadata": {},
   "outputs": [],
   "source": [
    "def Roll():\n",
    "    return int(np.random.choice(range(1,7),1))\n",
    "# on transforme l'array avec la fonction int()sous forme d'entier"
   ]
  },
  {
   "cell_type": "code",
   "execution_count": 38,
   "metadata": {},
   "outputs": [
    {
     "name": "stdout",
     "output_type": "stream",
     "text": [
      "2\n",
      "2\n",
      "6\n",
      "6\n",
      "3\n",
      "2\n",
      "4\n",
      "4\n",
      "6\n",
      "1\n",
      "2\n",
      "6\n",
      "5\n",
      "1\n",
      "4\n",
      "6\n",
      "3\n",
      "5\n",
      "4\n",
      "2\n"
     ]
    }
   ],
   "source": [
    "for i in range(20):\n",
    "    print(Roll())\n"
   ]
  },
  {
   "cell_type": "markdown",
   "metadata": {},
   "source": [
    "### Compléter le code et commenter"
   ]
  },
  {
   "cell_type": "code",
   "execution_count": 39,
   "metadata": {
    "scrolled": false
   },
   "outputs": [
    {
     "name": "stdout",
     "output_type": "stream",
     "text": [
      "5 0 1\n",
      "4 0 2\n",
      "3 0 3\n",
      "1 0 4\n",
      "4 0 5\n",
      "2 0 6\n",
      "2 0 7\n",
      "3 0 8\n",
      "3 0 9\n",
      "4 0 10\n",
      "1 0 11\n",
      "5 0 12\n",
      "3 0 13\n",
      "1 0 14\n",
      "4 0 15\n",
      "1 0 16\n",
      "6 1 17\n",
      "6 7 18\n",
      "2 9 19\n",
      "3 9 20\n",
      "6 9 21\n",
      "2 9 22\n",
      "5 9 23\n",
      "2 9 24\n",
      "6 9 25\n",
      "6 9 26\n",
      "5 9 27\n",
      "5 9 28\n",
      "2 9 29\n",
      "2 9 30\n",
      "1 10 31\n"
     ]
    }
   ],
   "source": [
    "A=0     # position\n",
    "NA=0  # la valeur de dé aprés le lancement \n",
    "N=10 # la position de la cible\n",
    "c=0 # compteur\n",
    "while (A<N) :\n",
    "    NA=Roll()\n",
    "    if NA==6 and A==0:\n",
    "        A=1\n",
    "        c=c+1\n",
    "        print(NA,A,c)\n",
    "        \n",
    "    elif A>0 and NA+A<N:\n",
    "        A=A+NA\n",
    "        c=c+1\n",
    "        print(NA,A,c)\n",
    "    elif NA+A==N:\n",
    "        c=c+1\n",
    "        A=A+NA\n",
    "        print(NA,A,c)\n",
    "        break\n",
    "    else:\n",
    "        c=c+1\n",
    "        print(NA,A,c)\n",
    "        \n",
    "    "
   ]
  },
  {
   "cell_type": "markdown",
   "metadata": {},
   "source": [
    "### Simulation\n",
    "Ecrire une foction `sim` qui simule le jeux et qui prend comme variable le nombre de pas $n$ nécessazire pour atteindre la cible"
   ]
  },
  {
   "cell_type": "code",
   "execution_count": 41,
   "metadata": {},
   "outputs": [],
   "source": [
    "def sim(N):\n",
    "    \"\"\"\"Simulation d'un jeux de ludo simple avec \n",
    "    Une grille de longueur N donné\n",
    "    Le principe est de déterminer le nombre de coup nécessaire\n",
    "    pour sortir du prison et atteindre la cible \"\"\"\n",
    "    A=0\n",
    "    NA=0\n",
    "    c=0\n",
    "    while (A<N) :\n",
    "        NA=Roll()\n",
    "        if NA==6 and A==0:\n",
    "            A=1\n",
    "            c=c+1\n",
    "        elif A>0 and NA+A<N:\n",
    "            A=A+NA\n",
    "            c=c+1\n",
    "        elif NA+A==N:\n",
    "            c=c+1\n",
    "            A=A+NA\n",
    "            break\n",
    "        else:\n",
    "            c=c+1\n",
    "            \n",
    "    return c\n",
    "    "
   ]
  },
  {
   "cell_type": "code",
   "execution_count": 43,
   "metadata": {
    "scrolled": true
   },
   "outputs": [
    {
     "data": {
      "text/plain": [
       "42"
      ]
     },
     "execution_count": 43,
     "metadata": {},
     "output_type": "execute_result"
    }
   ],
   "source": [
    "sim(50)"
   ]
  },
  {
   "cell_type": "markdown",
   "metadata": {},
   "source": [
    "### Simulation de $10^5$  scénario "
   ]
  },
  {
   "cell_type": "code",
   "execution_count": 71,
   "metadata": {},
   "outputs": [
    {
     "data": {
      "text/plain": [
       "13.3933"
      ]
     },
     "execution_count": 71,
     "metadata": {},
     "output_type": "execute_result"
    }
   ],
   "source": [
    "E=10000\n",
    "N=10\n",
    "L=[]\n",
    "for i in range(E):\n",
    "    \n",
    "    L.append(sim(N))\n",
    "def moyenne(L):\n",
    "    tot=0\n",
    "    for u in L:\n",
    "        tot=tot+u\n",
    "    return tot/len(L)\n",
    "\n",
    "moyenne (L)\n"
   ]
  },
  {
   "cell_type": "code",
   "execution_count": 72,
   "metadata": {},
   "outputs": [],
   "source": [
    "Freq=np.fromiter((sim(20) for i in range(10**5)),dtype=int)"
   ]
  },
  {
   "cell_type": "code",
   "execution_count": 73,
   "metadata": {},
   "outputs": [],
   "source": [
    "ESP=Freq.sum()/10**5"
   ]
  },
  {
   "cell_type": "code",
   "execution_count": 74,
   "metadata": {},
   "outputs": [],
   "source": [
    "x=list(range(10,20))"
   ]
  },
  {
   "cell_type": "code",
   "execution_count": 75,
   "metadata": {},
   "outputs": [],
   "source": [
    "y=[np.fromiter((sim(u) for i in range(5*10**4)),dtype=int).sum()/50000 for u in x]"
   ]
  },
  {
   "cell_type": "code",
   "execution_count": 76,
   "metadata": {},
   "outputs": [],
   "source": [
    "import matplotlib.pyplot as plt"
   ]
  },
  {
   "cell_type": "code",
   "execution_count": 77,
   "metadata": {
    "scrolled": true
   },
   "outputs": [
    {
     "data": {
      "text/plain": [
       "[<matplotlib.lines.Line2D at 0x2663bb2c4c0>]"
      ]
     },
     "execution_count": 77,
     "metadata": {},
     "output_type": "execute_result"
    },
    {
     "data": {
      "image/png": "[encoded data removed]",
      "text/plain": [
       "<Figure size 432x288 with 1 Axes>"
      ]
     },
     "metadata": {
      "needs_background": "light"
     },
     "output_type": "display_data"
    }
   ],
   "source": [
    "plt.plot(x,y)"
   ]
  },
  {
   "cell_type": "markdown",
   "metadata": {},
   "source": [
    "<h1>Remarque</h1>\n",
    "<p>on remarque que la nuage des points forme un droite alors E(X(n))=a*n+b\n",
    "trouverr a et b ?</p>"
   ]
  },
  {
   "cell_type": "code",
   "execution_count": 78,
   "metadata": {},
   "outputs": [],
   "source": [
    "from scipy import stats\n",
    "import numpy as np\n",
    "slope, intercept, r_value, p_value, std_err = stats.linregress(x,y)"
   ]
  },
  {
   "cell_type": "code",
   "execution_count": 81,
   "metadata": {},
   "outputs": [
    {
     "data": {
      "text/plain": [
       "0.28199709090909086"
      ]
     },
     "execution_count": 81,
     "metadata": {},
     "output_type": "execute_result"
    }
   ],
   "source": [
    "slope"
   ]
  },
  {
   "cell_type": "code",
   "execution_count": 82,
   "metadata": {},
   "outputs": [
    {
     "data": {
      "text/plain": [
       "10.533546181818185"
      ]
     },
     "execution_count": 82,
     "metadata": {},
     "output_type": "execute_result"
    }
   ],
   "source": [
    "intercept\n"
   ]
  },
  {
   "cell_type": "markdown",
   "metadata": {},
   "source": [
    "<h1>Remarque</h1>\n",
    "<p>E(X(n))=0.282*n+10.534</p>\n",
    "<h2>Exemple:</h2>\n",
    "<p>n=55 --> E(X(n))=0.282*55+10.534</p>"
   ]
  },
  {
   "cell_type": "code",
   "execution_count": null,
   "metadata": {},
   "outputs": [],
   "source": []
  }
 ],
 "metadata": {
  "kernelspec": {
   "display_name": "Python 3",
   "language": "python",
   "name": "python3"
  },
  "language_info": {
   "codemirror_mode": {
    "name": "ipython",
    "version": 3
   },
   "file_extension": ".py",
   "mimetype": "text/x-python",
   "name": "python",
   "nbconvert_exporter": "python",
   "pygments_lexer": "ipython3",
   "version": "3.8.3"
  }
 },
 "nbformat": 4,
 "nbformat_minor": 4
}
