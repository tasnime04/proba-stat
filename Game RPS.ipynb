{
 "cells": [
  {
   "cell_type": "markdown",
   "metadata": {},
   "source": [
    "<span style=\"color:#6D071A\">*Rock paper scissor*</span>"
   ]
  },
  {
   "cell_type": "markdown",
   "metadata": {},
   "source": [
    "![alt text](RPS.png \"image\")"
   ]
  },
  {
   "cell_type": "code",
   "execution_count": 8,
   "metadata": {},
   "outputs": [],
   "source": [
    "import numpy as np\n"
   ]
  },
  {
   "cell_type": "code",
   "execution_count": null,
   "metadata": {},
   "outputs": [
    {
     "name": "stdout",
     "output_type": "stream",
     "text": [
      "Rock,Paper,Scissors?Paper\n",
      "you lose hahaha !  Scissors cut Paper\n",
      "Rock,Paper,Scissors?Rock\n",
      "a draw <3\n",
      "Rock,Paper,Scissors?Scissors\n",
      " you win !! But you will lose next time lol hahahah  Scissors cut Paper\n",
      "Rock,Paper,Scissors?Scissors\n",
      "you lose hahaha ! Rock smashes Scissors\n"
     ]
    }
   ],
   "source": [
    "t = [\"Rock\", \"Paper\", \"Scissors\"]\n",
    "computer = t[int(np.random.choice(range(0,3),1))]\n",
    "player=False \n",
    "while player==False :\n",
    "    player=input(\"Rock,Paper,Scissors?\")\n",
    "    if player==computer:\n",
    "        print(\"a draw <3\")\n",
    "    elif player==\"Rock\":\n",
    "        if computer==\"Paper\":\n",
    "            print(\"you lose hahaha ! \",computer, \"covers\" ,player)\n",
    "        else:\n",
    "            print(\"you win !! But you will lose next time lol hahahah\",player, \"smashes\", computer)\n",
    "    elif player==\"Paper\":\n",
    "        if computer==\"Rock\":\n",
    "            print(\"you win !! But you will lose next time lol hahahah\",player ,\"covers\", computer)\n",
    "        else:\n",
    "            print(\"you lose hahaha ! \",computer ,\"cut\" ,player)\n",
    "    elif player==\"Scissors\":\n",
    "        if computer==\"Rock\":\n",
    "             print(\"you lose hahaha !\",computer, \"smashes\", player)\n",
    "        else:\n",
    "            print(\" you win !! But you will lose next time lol hahahah \",player ,\"cut\" ,computer)\n",
    "    else:\n",
    "        print(\"That's not a valid play.try again\")\n",
    "    player =False\n",
    "    computer = t[int(np.random.choice(range(0,3),1))]\n",
    "\n",
    "            \n",
    "        "
   ]
  },
  {
   "cell_type": "code",
   "execution_count": null,
   "metadata": {},
   "outputs": [],
   "source": []
  }
 ],
 "metadata": {
  "kernelspec": {
   "display_name": "Python 3",
   "language": "python",
   "name": "python3"
  },
  "language_info": {
   "codemirror_mode": {
    "name": "ipython",
    "version": 3
   },
   "file_extension": ".py",
   "mimetype": "text/x-python",
   "name": "python",
   "nbconvert_exporter": "python",
   "pygments_lexer": "ipython3",
   "version": "3.8.3"
  }
 },
 "nbformat": 4,
 "nbformat_minor": 4
}
