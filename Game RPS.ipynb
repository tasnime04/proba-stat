{
 "cells": [
  {
   "cell_type": "markdown",
   "metadata": {},
   "source": [
    "<span style=\"color:#6D071A\">*Rock paper scissor*</span>"
   ]
  },
  {
   "cell_type": "markdown",
   "metadata": {},
   "source": [
    "![alt text](RPS.png \"image\")"
   ]
  },
  {
   "cell_type": "code",
   "execution_count": 3,
   "metadata": {},
   "outputs": [],
   "source": [
    "import numpy as np\n"
   ]
  },
  {
   "cell_type": "code",
   "execution_count": null,
   "metadata": {},
   "outputs": [],
   "source": [
    "t = [\"Rock\", \"Paper\", \"Scissors\"]\n",
    "computer = t[int(np.random.choice(range(0,3),1))]\n",
    "player=False \n",
    "while player==False :\n",
    "    player=input(\"Rock,Paper,Scissors?\")\n",
    "    if player==computer:\n",
    "        print(\"a draw <3\")\n",
    "    elif player==\"Rock\":\n",
    "        if computer==\"Paper\":\n",
    "            print(\"you lose hahaha ! \",computer, \"covers\" ,player)\n",
    "        else:\n",
    "            print(\"you win !! But you will lose next time lol hahahah\",player, \"smashes\", computer)\n",
    "    elif player==\"Paper\":\n",
    "        if computer==\"Rock\":\n",
    "            print(\"you win !! But you will lose next time lol hahahah\",player ,\"covers\", computer)\n",
    "        else:\n",
    "            print(\"you lose hahaha ! \",computer ,\"cut\" ,player)\n",
    "    elif player==\"Scissors\":\n",
    "        if computer==\"Rock\":\n",
    "             print(\"you lose hahaha !\",computer, \"smashes\", player)\n",
    "        else:\n",
    "            print(\" you win !! But you will lose next time lol hahahah \",player ,\"cut\" ,computer)\n",
    "    else:\n",
    "        print(\"That's not a valid play.try again\")\n",
    "    player =False\n",
    "    computer = t[int(np.random.choice(range(0,3),1))]\n",
    "\n",
    "            \n",
    "        "
   ]
  },
  {
   "cell_type": "code",
   "execution_count": null,
   "metadata": {},
   "outputs": [],
   "source": []
  }
 ],
 "metadata": {
  "kernelspec": {
   "display_name": "Python 3",
   "language": "python",
   "name": "python3"
  },
  "language_info": {
   "codemirror_mode": {
    "name": "ipython",
    "version": 3
   },
   "file_extension": ".py",
   "mimetype": "text/x-python",
   "name": "python",
   "nbconvert_exporter": "python",
   "pygments_lexer": "ipython3",
   "version": "3.7.8"
  }
 },
 "nbformat": 4,
 "nbformat_minor": 4
}
